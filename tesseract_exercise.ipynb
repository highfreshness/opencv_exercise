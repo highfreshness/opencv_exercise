{
 "cells": [
  {
   "cell_type": "code",
   "execution_count": 12,
   "metadata": {},
   "outputs": [
    {
     "name": "stdout",
     "output_type": "stream",
     "text": [
      "<class 'PIL.JpegImagePlugin.JpegImageFile'>\n"
     ]
    }
   ],
   "source": [
    "from PIL import Image\n",
    "import pytesseract\n",
    "import cv2\n",
    "\n",
    "img = Image.open('test.jpg')\n",
    "print(type(img))\n",
    "\n",
    "img.show()"
   ]
  },
  {
   "cell_type": "code",
   "execution_count": 8,
   "metadata": {},
   "outputs": [
    {
     "name": "stdout",
     "output_type": "stream",
     "text": [
      " \n",
      "\n",
      " \n",
      "\n",
      "한 글 2022\n",
      "008\n",
      "0 마 / 이 미 지 에 서\n",
      "텍 스 트 추 출\n",
      "\n",
      " \n",
      "\n",
      " \n",
      "\f\n"
     ]
    }
   ],
   "source": [
    "pytesseract.pytesseract.tesseract_cmd = R'C:/Program Files/Tesseract-OCR/tesseract'\n",
    "str = pytesseract.image_to_string(Image.open('test.jpg'), lang='kor')\n",
    "\n",
    "print(str)\n"
   ]
  },
  {
   "cell_type": "code",
   "execution_count": 17,
   "metadata": {},
   "outputs": [],
   "source": [
    "capture = cv2.VideoCapture(0)\n",
    "capture.set(cv2.CAP_PROP_FRAME_WIDTH, 640)\n",
    "capture.set(cv2.CAP_PROP_FRAME_HEIGHT, 480)\n",
    "while True:\n",
    "    ret, frame = capture.read()\n",
    "    mask = cv2.cvtColor(frame, cv2.COLOR_BGR2GRAY)\n",
    "    text = pytesseract.image_to_string(mask, lang='kor')\n",
    "    print(f\"OCR > \")\n",
    "    cv2.imshow(\"VideoCapture\", mask)\n",
    "    if cv2.waitKey(1) > 0:\n",
    "        break\n",
    "capture.release() # peer 층을 해제\n",
    "cv2.destroyAllWindows()"
   ]
  },
  {
   "cell_type": "code",
   "execution_count": null,
   "metadata": {},
   "outputs": [],
   "source": []
  }
 ],
 "metadata": {
  "kernelspec": {
   "display_name": "vision",
   "language": "python",
   "name": "python3"
  },
  "language_info": {
   "codemirror_mode": {
    "name": "ipython",
    "version": 3
   },
   "file_extension": ".py",
   "mimetype": "text/x-python",
   "name": "python",
   "nbconvert_exporter": "python",
   "pygments_lexer": "ipython3",
   "version": "3.7.16"
  },
  "orig_nbformat": 4
 },
 "nbformat": 4,
 "nbformat_minor": 2
}
