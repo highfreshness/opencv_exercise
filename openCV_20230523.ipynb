{
 "cells": [
  {
   "cell_type": "markdown",
   "metadata": {},
   "source": [
    "## 기본 세팅"
   ]
  },
  {
   "cell_type": "code",
   "execution_count": 1,
   "metadata": {},
   "outputs": [],
   "source": [
    "import cv2\n",
    "import numpy as np"
   ]
  },
  {
   "cell_type": "code",
   "execution_count": 2,
   "metadata": {},
   "outputs": [],
   "source": [
    "src = cv2.imread('scale.jpg')"
   ]
  },
  {
   "cell_type": "markdown",
   "metadata": {},
   "source": [
    "# 연습"
   ]
  },
  {
   "cell_type": "markdown",
   "metadata": {},
   "source": [
    "## Image manipulation"
   ]
  },
  {
   "cell_type": "code",
   "execution_count": 2,
   "metadata": {},
   "outputs": [
    {
     "data": {
      "text/plain": [
       "-1"
      ]
     },
     "execution_count": 2,
     "metadata": {},
     "output_type": "execute_result"
    }
   ],
   "source": [
    "canvas = np.zeros((300,300,3), dtype='uint8')\n",
    "(centerX, centerY) = (canvas.shape[1] // 2, canvas.shape[0] // 2)\n",
    "white = (255,255,255)\n",
    "\n",
    "for r in range(0, 175, 25):\n",
    "    cv2.circle(canvas, (centerX, centerY), r, white) # source, Center(X,Y), radius, color, thickness\n",
    "\n",
    "cv2.imshow(\"Canvas\", canvas)\n",
    "cv2.waitKey(0)\n"
   ]
  },
  {
   "cell_type": "code",
   "execution_count": 6,
   "metadata": {},
   "outputs": [
    {
     "data": {
      "text/plain": [
       "-1"
      ]
     },
     "execution_count": 6,
     "metadata": {},
     "output_type": "execute_result"
    }
   ],
   "source": [
    "# 남는 시간을 이용한 연습\n",
    "src = np.zeros((1500,1500,3), dtype='uint8')\n",
    "cv2.line(src, (100,100), (1200,700), (0,0,255), 3, cv2.LINE_4)\n",
    "cv2.line(src, (100,115), (1200,715), (255,0,0), 3, cv2.LINE_8)\n",
    "cv2.line(src, (100,130), (1200,730), (255,255,255), 3, cv2.LINE_AA)\n",
    "\n",
    "cv2.circle(src, (300,300), 50, (0,255,0), cv2.FILLED, cv2.LINE_4)\n",
    "\n",
    "cv2.rectangle(src, (500,200), (1000,400), (255,0,0), 5, cv2.LINE_8)\n",
    "\n",
    "# cv2.ellipse(src, (1200,300))\n",
    "cv2.imshow(\"Source\", src)\n",
    "cv2.waitKey(0)\n"
   ]
  },
  {
   "cell_type": "markdown",
   "metadata": {},
   "source": [
    "## Make Circle"
   ]
  },
  {
   "cell_type": "code",
   "execution_count": 3,
   "metadata": {},
   "outputs": [
    {
     "data": {
      "text/plain": [
       "-1"
      ]
     },
     "execution_count": 3,
     "metadata": {},
     "output_type": "execute_result"
    }
   ],
   "source": [
    "for i in range(0, 25):\n",
    "    radius = np.random.randint(5, high=200)\n",
    "    color = np.random.randint(0, high=256, size = (3,)).tolist()\n",
    "    pt = np.random.randint(0, high=300, size=(2,))\n",
    "    \n",
    "    cv2.circle(canvas, tuple(pt), radius, color, -1)\n",
    "\n",
    "cv2.imshow(\"Canvas\", canvas)\n",
    "cv2.waitKey(0)"
   ]
  },
  {
   "cell_type": "markdown",
   "metadata": {},
   "source": [
    "## Move Image"
   ]
  },
  {
   "cell_type": "code",
   "execution_count": 6,
   "metadata": {},
   "outputs": [
    {
     "data": {
      "text/plain": [
       "-1"
      ]
     },
     "execution_count": 6,
     "metadata": {},
     "output_type": "execute_result"
    }
   ],
   "source": [
    "\"\"\"\n",
    "M 행렬 설명 \n",
    "M.shape = ( 2 , 3 ) type = float(부동소수점)\n",
    "첫번쨰 행 = [1,0,tx](x,y,변수) -tx = 좌, tx = 우 픽셀 이동\n",
    "두번째 행 = [0,1, tx](x,y,변수)-tx = 위, tx = 아래 픽셀 이동\n",
    "\"\"\"\n",
    "\n",
    "image = cv2.imread('scale.jpg')\n",
    "cv2.imshow(\"Original\", image)\n",
    "\n",
    "M = np.float32([[1,0,25], [0,1,50]]) # 우로 25, 아래로 50\n",
    "shifted = cv2.warpAffine(image, M, (image.shape[1], image.shape[0]))\n",
    "cv2.imshow(\"Shifted Down and Right\", shifted)\n",
    "\n",
    "M1 = np.float32([[1,0,-50], [0,1,-90]]) # 좌로 50, 위로 90\n",
    "shifted1 = cv2.warpAffine(image, M1, (image.shape[1], image.shape[0]))\n",
    "cv2.imshow(\"Shifted Up and Left\", shifted1)\n",
    "cv2.waitKey(0)"
   ]
  },
  {
   "cell_type": "code",
   "execution_count": 8,
   "metadata": {},
   "outputs": [
    {
     "data": {
      "text/plain": [
       "-1"
      ]
     },
     "execution_count": 8,
     "metadata": {},
     "output_type": "execute_result"
    }
   ],
   "source": [
    "def translate(image, x, y):\n",
    "    \"\"\"_summary_\n",
    "\n",
    "    Args:\n",
    "        image (_type_): img_source\n",
    "        x (_type_): +x = Right, -x = Left \n",
    "        y (_type_): +y = Down, -y = Up\n",
    "\n",
    "    Returns:\n",
    "        _type_: moved image\n",
    "    \"\"\"\n",
    "    M = np.float32([[1,0,x], [0,1,y]])\n",
    "    shifted = cv2.warpAffine(image, M, (image.shape[1], image.shape[0]))\n",
    "    return shifted\n",
    "\n",
    "cv2.imshow(\"tr\", translate(image, 100, 100)) # 우 100, 하 100\n",
    "cv2.imshow(\"tr2\", translate(image, -100, -100)) # 좌 100, 상 100\n",
    "cv2.waitKey(0)"
   ]
  },
  {
   "cell_type": "markdown",
   "metadata": {},
   "source": [
    "## Rotate"
   ]
  },
  {
   "cell_type": "code",
   "execution_count": 12,
   "metadata": {},
   "outputs": [
    {
     "data": {
      "text/plain": [
       "-1"
      ]
     },
     "execution_count": 12,
     "metadata": {},
     "output_type": "execute_result"
    }
   ],
   "source": [
    "def rotate(image, angle, center=None, scale=1.0):\n",
    "    \"\"\"_summary_\n",
    "\n",
    "    Args:\n",
    "        image (_type_): Image source\n",
    "        angle (_type_): Rotate angle\n",
    "        center (_type_, optional): Image center. Defaults to None.\n",
    "        scale (float, optional): Image Scale Up & Down. Defaults to 1.0.\n",
    "\n",
    "    Returns:\n",
    "        _type_: Rotated image\n",
    "    \"\"\"\n",
    "    (height, width) = image.shape[:2]\n",
    "    \n",
    "    if center is None:\n",
    "        center = (width // 2, height // 2)\n",
    "        \n",
    "    M = cv2.getRotationMatrix2D(center, angle, scale)\n",
    "    rotated = cv2.warpAffine(image, M, (width, height))\n",
    "    \n",
    "    return rotated\n",
    "\n",
    "src = cv2.imread(\"scale.jpg\")\n",
    "cv2.imshow(\"Original\", src)\n",
    "\n",
    "rotated = cv2.imshow(\"Rotated Image\", rotate(src, 45))\n",
    "cv2.waitKey(0)"
   ]
  },
  {
   "cell_type": "markdown",
   "metadata": {},
   "source": [
    "## Resizing"
   ]
  },
  {
   "cell_type": "code",
   "execution_count": 11,
   "metadata": {},
   "outputs": [
    {
     "name": "stdout",
     "output_type": "stream",
     "text": [
      "0.5925925925925926\n"
     ]
    },
    {
     "data": {
      "text/plain": [
       "-1"
      ]
     },
     "execution_count": 11,
     "metadata": {},
     "output_type": "execute_result"
    }
   ],
   "source": [
    "src = cv2.imread(\"scale.jpg\")\n",
    "r = 400 / src.shape[0] # image.shape[0] = height, 최대 높이 기준으로 줄일 비율\n",
    "print(r)\n",
    "dim = (int(src.shape[1] * r), 300) # image.shape[1] = width, 800 = Absolute height\n",
    "\n",
    "resized = cv2.resize(src, dim, interpolation=cv2.INTER_AREA)\n",
    "cv2.imshow(\"Resized(Height)\", resized)\n",
    "cv2.waitKey(0)\n"
   ]
  },
  {
   "cell_type": "code",
   "execution_count": 13,
   "metadata": {},
   "outputs": [
    {
     "data": {
      "text/plain": [
       "-1"
      ]
     },
     "execution_count": 13,
     "metadata": {},
     "output_type": "execute_result"
    }
   ],
   "source": [
    "ratio = 0.5\n",
    "dim = (int(src.shape[1]*r), int(src.shape[0]*r))\n",
    "\n",
    "resized = cv2.resize(src, dim, interpolation=cv2.INTER_AREA)\n",
    "cv2.imshow(\"Resized(Height)\", resized)\n",
    "cv2.waitKey(0)"
   ]
  },
  {
   "cell_type": "code",
   "execution_count": 2,
   "metadata": {},
   "outputs": [
    {
     "data": {
      "text/plain": [
       "-1"
      ]
     },
     "execution_count": 2,
     "metadata": {},
     "output_type": "execute_result"
    }
   ],
   "source": [
    "def resize(image, ratio:float, interpolation=cv2.INTER_AREA):\n",
    "    \"\"\"\n",
    "    _summary_\n",
    "\n",
    "    Args:\n",
    "        image (_type_): Image source\n",
    "        ratio (float): Image resize ratio(X,Y total ratio)\n",
    "        interpolation (_type_, optional): interpolation. Defaults to cv2.INTER_AREA.\n",
    "\n",
    "    Returns:\n",
    "        _type_: Resized Image\n",
    "    \"\"\"\n",
    "    dim = (int(src.shape[1] * ratio), int(src.shape[0] * ratio))\n",
    "    resized = cv2.resize(src, dim, interpolation)\n",
    "    return resized\n",
    "\n",
    "src = cv2.imread('scale.jpg')\n",
    "resized_src = resize(src, 2)\n",
    "cv2.imshow(\"Resized Image\", resized_src)\n",
    "cv2.waitKey(0)    "
   ]
  },
  {
   "cell_type": "markdown",
   "metadata": {},
   "source": [
    "## Flipping"
   ]
  },
  {
   "cell_type": "code",
   "execution_count": 5,
   "metadata": {},
   "outputs": [
    {
     "data": {
      "text/plain": [
       "-1"
      ]
     },
     "execution_count": 5,
     "metadata": {},
     "output_type": "execute_result"
    }
   ],
   "source": [
    "src = cv2.imread('scale.jpg')\n",
    "\n",
    "cv2.imshow(\"Original\", src)\n",
    "\n",
    "flipped = cv2.flip(src, 1) # 수평\n",
    "cv2.imshow(\"Flipped Horizontally\", flipped) \n",
    "\n",
    "flipped = cv2.flip(src, 0) # 수직\n",
    "cv2.imshow(\"Flipped Vertically\", flipped)\n",
    "\n",
    "flipped = cv2.flip(src, -1) # 수평 + 수직\n",
    "cv2.imshow(\"Flipped Horizontally & Vertically\", flipped)\n",
    "cv2.waitKey(0)"
   ]
  },
  {
   "cell_type": "markdown",
   "metadata": {},
   "source": [
    "## Cropping"
   ]
  },
  {
   "cell_type": "code",
   "execution_count": 6,
   "metadata": {},
   "outputs": [
    {
     "data": {
      "text/plain": [
       "-1"
      ]
     },
     "execution_count": 6,
     "metadata": {},
     "output_type": "execute_result"
    }
   ],
   "source": [
    "cropped = src[30:120, 240:335]\n",
    "cv2.imshow(\"Cropped\", cropped)\n",
    "cv2.waitKey(0)"
   ]
  },
  {
   "cell_type": "markdown",
   "metadata": {},
   "source": [
    "## Image operation"
   ]
  },
  {
   "cell_type": "code",
   "execution_count": 2,
   "metadata": {},
   "outputs": [
    {
     "name": "stdout",
     "output_type": "stream",
     "text": [
      "max of 255 : [[255]]\n",
      "min of 0 : [[0]]\n",
      "wrap around : [44]\n",
      "wrap around : [206]\n"
     ]
    }
   ],
   "source": [
    "src = cv2.imread('scale.jpg')\n",
    "# cv2.imshow(\"Original\", src)\n",
    "# cv2.waitKey(0)\n",
    "\n",
    "print(f\"max of 255 : {cv2.add(np.uint8([200]), np.uint8([100]))}\")\n",
    "print(f\"min of 0 : {cv2.subtract(np.uint8([50]), np.uint8([100]))}\")\n",
    "\n",
    "print(f\"wrap around : {np.uint8([200]) + np.uint8([100])}\")\n",
    "print(f\"wrap around : {np.uint8([50]) - np.uint8([100])}\")"
   ]
  },
  {
   "cell_type": "code",
   "execution_count": 7,
   "metadata": {},
   "outputs": [
    {
     "data": {
      "text/plain": [
       "-1"
      ]
     },
     "execution_count": 7,
     "metadata": {},
     "output_type": "execute_result"
    }
   ],
   "source": [
    "\"\"\"\n",
    "기존 값에 +가 되는 경우 = 색이 밝아짐\n",
    "기존 값에 -가 되는 경우 = 색이 어두워짐\n",
    "\n",
    "계산의 결과는 최소 0부터 최대 255까지만 가능하며 그 이상인 경우 최대 최소 값으로 고정\n",
    "\"\"\"\n",
    "M1 = np.ones(src.shape, dtype='uint8') * 100 # 1로 채운 뒤 100을 곱한다\n",
    "added = cv2.add(src, M1) \n",
    "cv2.imshow(\"Added\", added)\n",
    "\n",
    "M2 = np.ones(src.shape, dtype='uint8') * 50\n",
    "subtract = cv2.subtract(src, M2)\n",
    "cv2.imshow(\"Subtract\", subtract)\n",
    "cv2.waitKey(0)"
   ]
  },
  {
   "cell_type": "markdown",
   "metadata": {},
   "source": [
    "## Bitwise operations"
   ]
  },
  {
   "cell_type": "code",
   "execution_count": 12,
   "metadata": {},
   "outputs": [
    {
     "data": {
      "text/plain": [
       "-1"
      ]
     },
     "execution_count": 12,
     "metadata": {},
     "output_type": "execute_result"
    }
   ],
   "source": [
    "rectangle = np.zeros((300,300), dtype='uint8')\n",
    "cv2.rectangle(rectangle, (25,25), (275,275), 255, -1) # source, start, end, colors, thickness\n",
    "cv2.imshow('Rectangle', rectangle)\n",
    "\n",
    "circle = np.zeros((300,300), dtype='uint8')\n",
    "cv2.circle(circle, (150,150), 150, 255, -1) # source, zero-point, radius, colors, thickness\n",
    "cv2.imshow('Circle', circle)\n",
    "cv2.waitKey(0)"
   ]
  },
  {
   "cell_type": "code",
   "execution_count": 15,
   "metadata": {},
   "outputs": [
    {
     "data": {
      "text/plain": [
       "-1"
      ]
     },
     "execution_count": 15,
     "metadata": {},
     "output_type": "execute_result"
    }
   ],
   "source": [
    "# 교집합\n",
    "bitwiseAnd = cv2.bitwise_and(rectangle, circle)\n",
    "cv2.imshow(\"AND\", bitwiseAnd)\n",
    "\n",
    "# 합집합\n",
    "bitwiseOr = cv2.bitwise_or(rectangle, circle)\n",
    "cv2.imshow(\"OR\", bitwiseOr)\n",
    "\n",
    "# 같은 값을 가진 곳이 0(흑) 아니면 255(백)\n",
    "bitwiseXor = cv2.bitwise_xor(rectangle, circle)\n",
    "cv2.imshow(\"XOR\", bitwiseXor)\n",
    "\n",
    "# 반전\n",
    "bitwiseNot = cv2.bitwise_not(circle)\n",
    "cv2.imshow(\"NOT\", bitwiseNot)\n",
    "cv2.waitKey(0)\n"
   ]
  },
  {
   "cell_type": "markdown",
   "metadata": {},
   "source": [
    "## Masking 1"
   ]
  },
  {
   "cell_type": "code",
   "execution_count": 8,
   "metadata": {},
   "outputs": [],
   "source": [
    "src = cv2.imread('scale.jpg')"
   ]
  },
  {
   "cell_type": "code",
   "execution_count": 3,
   "metadata": {},
   "outputs": [
    {
     "name": "stdout",
     "output_type": "stream",
     "text": [
      "(675, 1200)\n"
     ]
    },
    {
     "data": {
      "text/plain": [
       "-1"
      ]
     },
     "execution_count": 3,
     "metadata": {},
     "output_type": "execute_result"
    }
   ],
   "source": [
    "gray_src = cv2.cvtColor(src, cv2.COLOR_BGR2GRAY)\n",
    "print(gray_src.shape)\n",
    "cv2.imshow(\"gray_src\", gray_src)\n",
    "cv2.waitKey(0)"
   ]
  },
  {
   "cell_type": "code",
   "execution_count": 7,
   "metadata": {},
   "outputs": [
    {
     "name": "stdout",
     "output_type": "stream",
     "text": [
      "[[49 48 45 ... 51 53 54]\n",
      " [48 47 45 ... 51 52 53]\n",
      " [47 47 46 ... 52 52 53]\n",
      " ...\n",
      " [20 15 10 ...  8  8  8]\n",
      " [21 16 11 ...  8  8  9]\n",
      " [22 17 11 ...  7  9 10]]\n"
     ]
    }
   ],
   "source": [
    "print(gray_src)"
   ]
  },
  {
   "cell_type": "code",
   "execution_count": 8,
   "metadata": {},
   "outputs": [
    {
     "name": "stdout",
     "output_type": "stream",
     "text": [
      "(675, 1200)\n"
     ]
    },
    {
     "data": {
      "text/plain": [
       "-1"
      ]
     },
     "execution_count": 8,
     "metadata": {},
     "output_type": "execute_result"
    }
   ],
   "source": [
    "cropped_circle = cv2.circle(gray_src, (250,250), 50, 255, -1)\n",
    "print(cropped_circle.shape)\n",
    "cv2.imshow(\"Crop Image\", cropped_circle)\n",
    "cv2.waitKey(0)"
   ]
  },
  {
   "cell_type": "code",
   "execution_count": 11,
   "metadata": {},
   "outputs": [
    {
     "data": {
      "text/plain": [
       "-1"
      ]
     },
     "execution_count": 11,
     "metadata": {},
     "output_type": "execute_result"
    }
   ],
   "source": [
    "bitwise_image = cv2.bitwise_or(gray_src, cropped_circle)\n",
    "cv2.imshow(\"OR\", bitwise_image)\n",
    "cv2.waitKey(0)"
   ]
  },
  {
   "cell_type": "markdown",
   "metadata": {},
   "source": [
    "## Masking 2"
   ]
  },
  {
   "cell_type": "code",
   "execution_count": 3,
   "metadata": {},
   "outputs": [],
   "source": [
    "src = cv2.imread('scale.jpg')"
   ]
  },
  {
   "cell_type": "code",
   "execution_count": 4,
   "metadata": {},
   "outputs": [
    {
     "data": {
      "text/plain": [
       "-1"
      ]
     },
     "execution_count": 4,
     "metadata": {},
     "output_type": "execute_result"
    }
   ],
   "source": [
    "# rectangle masking\n",
    "gray_src = cv2.cvtColor(src, cv2.COLOR_BGR2GRAY)\n",
    "mask = np.zeros_like(gray_src, dtype='uint8') # 소스 크기만큼의 검정 배경\n",
    "(cX, cY) = (gray_src.shape[1] // 2, gray_src.shape[0] // 2) # 소스 크기 기준 영점 \n",
    "cv2.rectangle(mask, (cX-75, cY-75), (cX+75, cY+75), 255, -1) # 영점 기준 정사각형\n",
    "cv2.imshow(\"Mask\", mask)\n",
    "masked = cv2.bitwise_and(gray_src, gray_src, mask=mask)\n",
    "cv2.imshow(\"Mask Applied to image.\", masked)\n",
    "cv2.waitKey(0)"
   ]
  },
  {
   "cell_type": "code",
   "execution_count": 6,
   "metadata": {},
   "outputs": [
    {
     "data": {
      "text/plain": [
       "-1"
      ]
     },
     "execution_count": 6,
     "metadata": {},
     "output_type": "execute_result"
    }
   ],
   "source": [
    "# circle masking\n",
    "gray_src = cv2.cvtColor(src, cv2.COLOR_BGR2GRAY)\n",
    "mask = np.zeros_like(gray_src, dtype='uint8') # 소스 크기만큼의 검정 배경, 마스크는 1채널\n",
    "(cX, cY) = (gray_src.shape[1] // 2, gray_src.shape[0] // 2) # 소스 크기 기준 영점 \n",
    "cv2.circle(mask, (cX, cY), 300, 255, -1) # 영점 기준 원\n",
    "# cv2.imshow(\"Mask\", mask)\n",
    "masked = cv2.bitwise_and(gray_src, gray_src, mask=mask)\n",
    "cv2.imshow(\"Mask Applied to image.\", masked)\n",
    "cv2.waitKey(0)"
   ]
  },
  {
   "cell_type": "markdown",
   "metadata": {},
   "source": [
    "## 채널 분할 및 합병"
   ]
  },
  {
   "cell_type": "code",
   "execution_count": 5,
   "metadata": {},
   "outputs": [
    {
     "data": {
      "text/plain": [
       "-1"
      ]
     },
     "execution_count": 5,
     "metadata": {},
     "output_type": "execute_result"
    }
   ],
   "source": [
    "src = cv2.imread('scale.jpg')\n",
    "(B, G, R) = cv2.split(src)\n",
    "\n",
    "cv2.imshow(\"Red\", R)\n",
    "cv2.imshow(\"Green\", G)\n",
    "cv2.imshow(\"Blue\", B)\n",
    "cv2.waitKey(0)\n",
    "\n",
    "failure_merged = cv2.merge([R,G,B]) # 색 순서 변환\n",
    "cv2.imshow(\"Merged\", failure_merged)\n",
    "cv2.waitKey(0)\n",
    "\n",
    "merged = cv2.merge([B,G,R]) # 원래 색 순서\n",
    "cv2.imshow(\"Merged\", merged)\n",
    "cv2.waitKey(0)"
   ]
  },
  {
   "cell_type": "code",
   "execution_count": 6,
   "metadata": {},
   "outputs": [
    {
     "data": {
      "text/plain": [
       "-1"
      ]
     },
     "execution_count": 6,
     "metadata": {},
     "output_type": "execute_result"
    }
   ],
   "source": [
    "gray_src = cv2.cvtColor(src, cv2.COLOR_BGR2GRAY)\n",
    "zeros = np.zeros_like(gray_src, dtype='uint8') # 채널 주의\n",
    "cv2.imshow(\"Red\", cv2.merge([zeros, zeros, R]))\n",
    "cv2.imshow(\"Green\", cv2.merge([zeros, G, zeros]))\n",
    "cv2.imshow(\"Blue\", cv2.merge([B, zeros, zeros]))\n",
    "cv2.waitKey(0)"
   ]
  },
  {
   "cell_type": "markdown",
   "metadata": {},
   "source": [
    "## Color spaces"
   ]
  },
  {
   "cell_type": "code",
   "execution_count": 5,
   "metadata": {},
   "outputs": [
    {
     "data": {
      "text/plain": [
       "-1"
      ]
     },
     "execution_count": 5,
     "metadata": {},
     "output_type": "execute_result"
    }
   ],
   "source": [
    "cv2.imshow('Original', src)\n",
    "\n",
    "gray = cv2.cvtColor(src, cv2.COLOR_BGR2GRAY)\n",
    "cv2.imshow(\"Gray\", gray)\n",
    "\n",
    "hsv = cv2.cvtColor(src, cv2.COLOR_BGR2HSV)\n",
    "cv2.imshow(\"HSV\", hsv)\n",
    "\n",
    "lab = cv2.cvtColor(src, cv2.COLOR_BGR2LAB)\n",
    "cv2.imshow(\"L * a * b*\", lab)\n",
    "\n",
    "cv2.waitKey(0)"
   ]
  },
  {
   "cell_type": "markdown",
   "metadata": {},
   "source": [
    "## Color histogram"
   ]
  },
  {
   "cell_type": "code",
   "execution_count": 19,
   "metadata": {},
   "outputs": [],
   "source": [
    "import matplotlib.pyplot as plt\n",
    "\n",
    "%matplotlib inline"
   ]
  },
  {
   "cell_type": "code",
   "execution_count": 21,
   "metadata": {},
   "outputs": [
    {
     "data": {
      "image/png": "[encoded data removed]",
      "text/plain": [
       "<Figure size 640x480 with 1 Axes>"
      ]
     },
     "metadata": {},
     "output_type": "display_data"
    }
   ],
   "source": [
    "hist = cv2.calcHist(src, channels=[0], mask=None, histSize=[256], ranges=[0,256])\n",
    "plt.plot(hist)\n",
    "plt.xlim([0,256])\n",
    "plt.show()"
   ]
  },
  {
   "cell_type": "code",
   "execution_count": 24,
   "metadata": {},
   "outputs": [
    {
     "data": {
      "image/png": "[encoded data removed]",
      "text/plain": [
       "<Figure size 640x480 with 1 Axes>"
      ]
     },
     "metadata": {},
     "output_type": "display_data"
    },
    {
     "data": {
      "text/plain": [
       "-1"
      ]
     },
     "execution_count": 24,
     "metadata": {},
     "output_type": "execute_result"
    }
   ],
   "source": [
    "channels = cv2.split(src)\n",
    "colors = ('b','g','r')\n",
    "plt.figure()\n",
    "plt.title(\"Flattened' Color Histogram\")\n",
    "plt.xlabel('Bins')\n",
    "plt.ylabel('# of Pixcels')\n",
    "\n",
    "for (channel, color) in zip(channels, colors):\n",
    "    hist = cv2.calcHist([channel], [0], None, [256], [0,256])\n",
    "    plt.plot(hist, color=color)\n",
    "    plt.xlim([0,256])\n",
    "plt.show()\n",
    "\n",
    "cv2.imshow(\"Original\", src)\n",
    "cv2.waitKey(0)"
   ]
  },
  {
   "cell_type": "code",
   "execution_count": null,
   "metadata": {},
   "outputs": [],
   "source": []
  }
 ],
 "metadata": {
  "kernelspec": {
   "display_name": "Python 3.7.16 ('vision')",
   "language": "python",
   "name": "python3"
  },
  "language_info": {
   "codemirror_mode": {
    "name": "ipython",
    "version": 3
   },
   "file_extension": ".py",
   "mimetype": "text/x-python",
   "name": "python",
   "nbconvert_exporter": "python",
   "pygments_lexer": "ipython3",
   "version": "3.7.16"
  },
  "orig_nbformat": 4,
  "vscode": {
   "interpreter": {
    "hash": "53f98e77925c1c0728b38d718fc58cc0d431f6f1635e82f3767f9c080b60dc4b"
   }
  }
 },
 "nbformat": 4,
 "nbformat_minor": 2
}
