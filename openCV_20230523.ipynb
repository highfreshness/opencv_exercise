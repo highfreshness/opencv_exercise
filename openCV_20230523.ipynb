{
 "cells": [
  {
   "cell_type": "code",
   "execution_count": 2,
   "metadata": {},
   "outputs": [],
   "source": [
    "import cv2\n",
    "import numpy as np"
   ]
  },
  {
   "cell_type": "code",
   "execution_count": 2,
   "metadata": {},
   "outputs": [
    {
     "data": {
      "text/plain": [
       "-1"
      ]
     },
     "execution_count": 2,
     "metadata": {},
     "output_type": "execute_result"
    }
   ],
   "source": [
    "canvas = np.zeros((300,300,3), dtype='uint8')\n",
    "(centerX, centerY) = (canvas.shape[1] // 2, canvas.shape[0] // 2)\n",
    "white = (255,255,255)\n",
    "\n",
    "for r in range(0, 175, 25):\n",
    "    cv2.circle(canvas, (centerX, centerY), r, white) # source, Center(X,Y), radius, color, thickness\n",
    "\n",
    "cv2.imshow(\"Canvas\", canvas)\n",
    "cv2.waitKey(0)\n"
   ]
  },
  {
   "cell_type": "code",
   "execution_count": 6,
   "metadata": {},
   "outputs": [
    {
     "data": {
      "text/plain": [
       "-1"
      ]
     },
     "execution_count": 6,
     "metadata": {},
     "output_type": "execute_result"
    }
   ],
   "source": [
    "# 남는 시간을 이용한 연습\n",
    "src = np.zeros((1500,1500,3), dtype='uint8')\n",
    "cv2.line(src, (100,100), (1200,700), (0,0,255), 3, cv2.LINE_4)\n",
    "cv2.line(src, (100,115), (1200,715), (255,0,0), 3, cv2.LINE_8)\n",
    "cv2.line(src, (100,130), (1200,730), (255,255,255), 3, cv2.LINE_AA)\n",
    "\n",
    "cv2.circle(src, (300,300), 50, (0,255,0), cv2.FILLED, cv2.LINE_4)\n",
    "\n",
    "cv2.rectangle(src, (500,200), (1000,400), (255,0,0), 5, cv2.LINE_8)\n",
    "\n",
    "# cv2.ellipse(src, (1200,300))\n",
    "cv2.imshow(\"Source\", src)\n",
    "cv2.waitKey(0)\n"
   ]
  },
  {
   "cell_type": "markdown",
   "metadata": {},
   "source": [
    "## Make Circle"
   ]
  },
  {
   "cell_type": "code",
   "execution_count": 3,
   "metadata": {},
   "outputs": [
    {
     "data": {
      "text/plain": [
       "-1"
      ]
     },
     "execution_count": 3,
     "metadata": {},
     "output_type": "execute_result"
    }
   ],
   "source": [
    "for i in range(0, 25):\n",
    "    radius = np.random.randint(5, high=200)\n",
    "    color = np.random.randint(0, high=256, size = (3,)).tolist()\n",
    "    pt = np.random.randint(0, high=300, size=(2,))\n",
    "    \n",
    "    cv2.circle(canvas, tuple(pt), radius, color, -1)\n",
    "\n",
    "cv2.imshow(\"Canvas\", canvas)\n",
    "cv2.waitKey(0)"
   ]
  },
  {
   "cell_type": "markdown",
   "metadata": {},
   "source": [
    "## Move Image"
   ]
  },
  {
   "cell_type": "code",
   "execution_count": 6,
   "metadata": {},
   "outputs": [
    {
     "data": {
      "text/plain": [
       "-1"
      ]
     },
     "execution_count": 6,
     "metadata": {},
     "output_type": "execute_result"
    }
   ],
   "source": [
    "\"\"\"\n",
    "M 행렬 설명 \n",
    "M.shape = ( 2 , 3 ) type = float(부동소수점)\n",
    "첫번쨰 행 = [1,0,tx](x,y,변수) -tx = 좌, tx = 우 픽셀 이동\n",
    "두번째 행 = [0,1, tx](x,y,변수)-tx = 위, tx = 아래 픽셀 이동\n",
    "\"\"\"\n",
    "\n",
    "image = cv2.imread('scale.jpg')\n",
    "cv2.imshow(\"Original\", image)\n",
    "\n",
    "M = np.float32([[1,0,25], [0,1,50]]) # 우로 25, 아래로 50\n",
    "shifted = cv2.warpAffine(image, M, (image.shape[1], image.shape[0]))\n",
    "cv2.imshow(\"Shifted Down and Right\", shifted)\n",
    "\n",
    "M1 = np.float32([[1,0,-50], [0,1,-90]]) # 좌로 50, 위로 90\n",
    "shifted1 = cv2.warpAffine(image, M1, (image.shape[1], image.shape[0]))\n",
    "cv2.imshow(\"Shifted Up and Left\", shifted1)\n",
    "cv2.waitKey(0)"
   ]
  },
  {
   "cell_type": "code",
   "execution_count": 8,
   "metadata": {},
   "outputs": [
    {
     "data": {
      "text/plain": [
       "-1"
      ]
     },
     "execution_count": 8,
     "metadata": {},
     "output_type": "execute_result"
    }
   ],
   "source": [
    "def translate(image, x, y):\n",
    "    \"\"\"_summary_\n",
    "\n",
    "    Args:\n",
    "        image (_type_): img_source\n",
    "        x (_type_): +x = Right, -x = Left \n",
    "        y (_type_): +y = Down, -y = Up\n",
    "\n",
    "    Returns:\n",
    "        _type_: moved image\n",
    "    \"\"\"\n",
    "    M = np.float32([[1,0,x], [0,1,y]])\n",
    "    shifted = cv2.warpAffine(image, M, (image.shape[1], image.shape[0]))\n",
    "    return shifted\n",
    "\n",
    "cv2.imshow(\"tr\", translate(image, 100, 100)) # 우 100, 하 100\n",
    "cv2.imshow(\"tr2\", translate(image, -100, -100)) # 좌 100, 상 100\n",
    "cv2.waitKey(0)"
   ]
  },
  {
   "cell_type": "markdown",
   "metadata": {},
   "source": [
    "## Rotate"
   ]
  },
  {
   "cell_type": "code",
   "execution_count": 11,
   "metadata": {},
   "outputs": [
    {
     "data": {
      "text/plain": [
       "-1"
      ]
     },
     "execution_count": 11,
     "metadata": {},
     "output_type": "execute_result"
    }
   ],
   "source": [
    "def rotate(image, angle, center=None, scale=1.0):\n",
    "    \"\"\"_summary_\n",
    "\n",
    "    Args:\n",
    "        image (_type_): Image source\n",
    "        angle (_type_): Rotate angle\n",
    "        center (_type_, optional): Image center. Defaults to None.\n",
    "        scale (float, optional): Image Scale Up & Down. Defaults to 1.0.\n",
    "\n",
    "    Returns:\n",
    "        _type_: Rotated image\n",
    "    \"\"\"\n",
    "    (height, width) = image.shape[:2]\n",
    "    \n",
    "    if center is None:\n",
    "        center = (width // 2, height // 2)\n",
    "        \n",
    "    M = cv2.getRotationMatrix2D(center, angle, scale)\n",
    "    rotated = cv2.warpAffine(image, M, (width, height))\n",
    "    \n",
    "    return rotated\n",
    "\n",
    "src = cv2.imread(\"scale.jpg\")\n",
    "cv2.imshow(\"Original\", src)\n",
    "\n",
    "rotated = cv2.imshow(\"Rotated Image\", rotate(src, 45))\n",
    "cv2.waitKey(0)"
   ]
  },
  {
   "cell_type": "code",
   "execution_count": null,
   "metadata": {},
   "outputs": [],
   "source": []
  }
 ],
 "metadata": {
  "kernelspec": {
   "display_name": "Python 3.7.16 ('vision')",
   "language": "python",
   "name": "python3"
  },
  "language_info": {
   "codemirror_mode": {
    "name": "ipython",
    "version": 3
   },
   "file_extension": ".py",
   "mimetype": "text/x-python",
   "name": "python",
   "nbconvert_exporter": "python",
   "pygments_lexer": "ipython3",
   "version": "3.7.16"
  },
  "orig_nbformat": 4,
  "vscode": {
   "interpreter": {
    "hash": "53f98e77925c1c0728b38d718fc58cc0d431f6f1635e82f3767f9c080b60dc4b"
   }
  }
 },
 "nbformat": 4,
 "nbformat_minor": 2
}
