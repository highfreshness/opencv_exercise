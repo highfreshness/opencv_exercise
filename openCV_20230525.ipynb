{
 "cells": [
  {
   "attachments": {},
   "cell_type": "markdown",
   "metadata": {},
   "source": [
    "## 기본 세팅"
   ]
  },
  {
   "cell_type": "code",
   "execution_count": 3,
   "metadata": {},
   "outputs": [],
   "source": [
    "import cv2\n",
    "import numpy as np\n",
    "import matplotlib.pyplot as plt\n",
    "\n",
    "%matplotlib inline"
   ]
  },
  {
   "cell_type": "code",
   "execution_count": 2,
   "metadata": {},
   "outputs": [],
   "source": [
    "src = cv2.imread('coin.jpg')"
   ]
  },
  {
   "attachments": {},
   "cell_type": "markdown",
   "metadata": {},
   "source": [
    "# 연습"
   ]
  },
  {
   "cell_type": "code",
   "execution_count": 19,
   "metadata": {},
   "outputs": [
    {
     "name": "stdout",
     "output_type": "stream",
     "text": [
      "I count 4 coints in this image\n"
     ]
    },
    {
     "data": {
      "text/plain": [
       "-1"
      ]
     },
     "execution_count": 19,
     "metadata": {},
     "output_type": "execute_result"
    }
   ],
   "source": [
    "\"\"\"\n",
    "cv2.cvtColor(image, Convert color type)\n",
    "cv2.GaussianBlur(image, Kernel range, X axis standard deviation = Alpha{0=Auto})\n",
    "cv2.canny(gray_image, threshold1, threshold2)\n",
    "    threshold1 > value = None edge\n",
    "    threshold2 < value = Perpect Edge\n",
    "(args1, args2) = cv2.findContour(image, Edge case, expression)\n",
    "    args1 = Python list\n",
    "    edge case =  \n",
    "    \n",
    "cv2.drawContours(image, contours, contour[idx], color, thickness)\n",
    "    contour[idx] = -1 (=All)\n",
    "\"\"\"\n",
    "\n",
    "gray_src = cv2.cvtColor(src, cv2.COLOR_BGR2GRAY)\n",
    "blurred = cv2.GaussianBlur(gray_src, (13,13), 0)\n",
    "cv2.imshow(\"Source\", gray_src)\n",
    "\n",
    "edged = cv2.Canny(blurred, 40, 140) # Edge detector\n",
    "cv2.imshow(\"Edged\", edged)\n",
    "\n",
    "(cnts, _) = cv2.findContours(edged.copy(), cv2.RETR_EXTERNAL, cv2.CHAIN_APPROX_SIMPLE)\n",
    "print(f\"I count {len(cnts)} coints in this image\")\n",
    "\n",
    "coins = src.copy()\n",
    "cv2.drawContours(coins, cnts, -1, (0,255,0), 4)\n",
    "cv2.imshow(\"Coins\", coins)\n",
    "cv2.waitKey(0)"
   ]
  },
  {
   "attachments": {},
   "cell_type": "markdown",
   "metadata": {},
   "source": [
    "### 크로마키 이미지에서 원본 소스를 빼와서 기존 사진에 합성하기\n",
    "\n",
    "1. 크로마키 이미지에서 Green채널의 녹색을 제거\n",
    "   1. 블러 사용 검토(경계부분의 초록색이 남아있음)\n",
    "2. 1.의 이미지에서 컨투어를 이용해 이미지 잘라내기\n",
    "3. 2.의 이미지를 배경 이미지에 덞어씌우기\n",
    "   1. 이미지 resize 및 x,y 좌표 이동 필요"
   ]
  },
  {
   "cell_type": "code",
   "execution_count": 55,
   "metadata": {},
   "outputs": [],
   "source": [
    "chroma_img = cv2.imread('chroma_key.jpg')\n",
    "B, G, R = cv2.split(chroma_img)\n",
    "G = np.where(G > 245, 0, G)\n",
    "conv_chroma_img = cv2.merge((B,G,R))"
   ]
  },
  {
   "cell_type": "code",
   "execution_count": 56,
   "metadata": {},
   "outputs": [
    {
     "data": {
      "text/plain": [
       "-1"
      ]
     },
     "execution_count": 56,
     "metadata": {},
     "output_type": "execute_result"
    }
   ],
   "source": [
    "cv2.imshow(\"Chroma Key\", conv_chroma_img)\n",
    "cv2.waitKey(0)"
   ]
  },
  {
   "cell_type": "code",
   "execution_count": 57,
   "metadata": {},
   "outputs": [
    {
     "name": "stdout",
     "output_type": "stream",
     "text": [
      "Find contour count : 2\n"
     ]
    }
   ],
   "source": [
    "gray_chroma_img = cv2.cvtColor(conv_chroma_img, cv2.COLOR_BGR2GRAY)\n",
    "# cv2.imshow(\"gray_chroma_img\", gray_chroma_img)\n",
    "\n",
    "blurred_gray_chroma_img = cv2.GaussianBlur(gray_chroma_img, (15,15), 0)\n",
    "# cv2.imshow(\"blurred_gray_chroma_img\", blurred_gray_chroma_img)\n",
    "\n",
    "edged_blurred_gray_chroma_img = cv2.Canny(blurred_gray_chroma_img, 20, 200)\n",
    "cv2.imshow(\"edged_blurred_gray_chroma_img\", edged_blurred_gray_chroma_img)\n",
    "cv2.waitKey(0)\n",
    "\n",
    "(contours, _) = cv2.findContours(edged_blurred_gray_chroma_img.copy(), cv2.RETR_EXTERNAL,\\\n",
    "                cv2.CHAIN_APPROX_SIMPLE)\n",
    "\n",
    "print(f\"Find contour count : {len(contours)}\")\n"
   ]
  },
  {
   "cell_type": "code",
   "execution_count": 38,
   "metadata": {},
   "outputs": [
    {
     "name": "stdout",
     "output_type": "stream",
     "text": [
      "Contour # 1\n",
      "x : 694 / y : 419 / w : 38 / h : 74 \n",
      "Contour_temp shape : (74, 38, 3)\n",
      "\n",
      "Mask shape : (720, 1280)\n",
      "Contour # 2\n",
      "x : 552 / y : 248 / w : 526 / h : 472 \n",
      "Contour_temp shape : (472, 526, 3)\n",
      "\n",
      "Mask shape : (720, 1280)\n"
     ]
    }
   ],
   "source": [
    "for (idx, contour) in enumerate(contours):\n",
    "    (x, y, w, h) = cv2.boundingRect(contour)\n",
    "    \n",
    "    print(f\"Contour # {idx+1}\")\n",
    "    print(F\"x : {x} / y : {y} / w : {w} / h : {h} \")\n",
    "    contour_temp = conv_chroma_img[y : y+h, x : x+w]\n",
    "    print(f\"Contour_temp shape : {contour_temp.shape}\")\n",
    "    print()\n",
    "    # cv2.imshow(\"Contour\",contour_temp)\n",
    "    # cv2.waitKey(0)\n",
    "    \n",
    "    mask = np.zeros(chroma_img.shape[:2], dtype='uint8')\n",
    "    print(f\"Mask shape : {mask.shape}\")\n",
    "    ((centerX, centerY), radius) = cv2.minEnclosingCircle(contour)\n",
    "    cv2.circle(mask, (int(centerX), int(centerY)), int(radius), 255, -1)\n",
    "    mask = mask[y : y+h, x : x+w]\n",
    "\n",
    "    contour_img = cv2.bitwise_and(contour_temp, contour_temp, mask=mask)\n",
    "    cv2.imshow('Masked Contour', contour_img)\n",
    "    cv2.waitKey(0)"
   ]
  },
  {
   "cell_type": "code",
   "execution_count": 63,
   "metadata": {},
   "outputs": [],
   "source": [
    "# img1, img2 입력, 이미지 확인\n",
    "img = cv2.imread('chroma_key.jpg')\n",
    "background_img = cv2.imread('busstop.jpg')\n",
    "cv2.imshow(\"Original\", img)\n",
    "cv2.imshow(\"Background\", background_img)\n",
    "cv2.waitKey()\n",
    "cv2.destroyAllWindows()"
   ]
  },
  {
   "cell_type": "code",
   "execution_count": 74,
   "metadata": {},
   "outputs": [],
   "source": [
    "# 이미지 색을 RGB -> HSV로 변경 후 Green 기준으로 amsk 생성\n",
    "img2hsv = cv2.cvtColor(img, cv2.COLOR_BGR2HSV)\n",
    "mask = cv2.inRange(img2hsv, (50,150,0), (70,255,255))\n",
    "mask_inv = cv2.bitwise_not(mask)\n",
    "\n",
    "cv2.imshow(\"mask\", mask)\n",
    "cv2.imshow(\"mask_inv\", mask_inv)\n",
    "cv2.waitKey()\n",
    "cv2.destroyAllWindows()"
   ]
  },
  {
   "cell_type": "code",
   "execution_count": 76,
   "metadata": {},
   "outputs": [],
   "source": [
    "# 마스크 영역만 추출\n",
    "img2_fg = cv2.bitwise_and(img, img, mask=mask_inv)"
   ]
  },
  {
   "cell_type": "code",
   "execution_count": 79,
   "metadata": {},
   "outputs": [],
   "source": [
    "# 크로마키 이미지의 높이, 너비, 채널 구하기\n",
    "height, width, channels = img.shape\n",
    "# 배경 이미지에서 크로마키 마스크 영역을 관심영역으로 설정\n",
    "roi = background_img[0:height, 0:width]"
   ]
  },
  {
   "cell_type": "code",
   "execution_count": 80,
   "metadata": {},
   "outputs": [
    {
     "name": "stdout",
     "output_type": "stream",
     "text": [
      "(720, 1200, 3) (720, 1280, 3)\n"
     ]
    }
   ],
   "source": [
    "print(roi.shape, img2_fg.shape)"
   ]
  },
  {
   "cell_type": "code",
   "execution_count": null,
   "metadata": {},
   "outputs": [],
   "source": [
    "dst = cv2.addWeighted(roi, 1, img2_fg, 1, 0)\n",
    "new_img = background_img.copy()\n",
    "new_img[0:height, 0:weight] = dst\n",
    "\n",
    "cv2.imshow(\"Image\",new_img)\n",
    "cv2.waitKey()\n",
    "cv2.destroyAllWindows()"
   ]
  },
  {
   "cell_type": "code",
   "execution_count": null,
   "metadata": {},
   "outputs": [],
   "source": []
  }
 ],
 "metadata": {
  "kernelspec": {
   "display_name": "Python 3.7.16 ('vision')",
   "language": "python",
   "name": "python3"
  },
  "language_info": {
   "codemirror_mode": {
    "name": "ipython",
    "version": 3
   },
   "file_extension": ".py",
   "mimetype": "text/x-python",
   "name": "python",
   "nbconvert_exporter": "python",
   "pygments_lexer": "ipython3",
   "version": "3.7.16"
  },
  "orig_nbformat": 4,
  "vscode": {
   "interpreter": {
    "hash": "53f98e77925c1c0728b38d718fc58cc0d431f6f1635e82f3767f9c080b60dc4b"
   }
  }
 },
 "nbformat": 4,
 "nbformat_minor": 2
}
