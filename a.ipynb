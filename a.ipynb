{
 "cells": [
  {
   "cell_type": "code",
   "execution_count": 2,
   "metadata": {},
   "outputs": [],
   "source": [
    "import cv2"
   ]
  },
  {
   "cell_type": "code",
   "execution_count": 22,
   "metadata": {},
   "outputs": [],
   "source": [
    "image = cv2.imread('scale.jpg')"
   ]
  },
  {
   "cell_type": "code",
   "execution_count": 23,
   "metadata": {},
   "outputs": [
    {
     "name": "stdout",
     "output_type": "stream",
     "text": [
      "width : 1200 pixels\n"
     ]
    }
   ],
   "source": [
    "print(f\"width : {image.shape[1]} pixels\")"
   ]
  },
  {
   "cell_type": "code",
   "execution_count": 24,
   "metadata": {},
   "outputs": [
    {
     "name": "stdout",
     "output_type": "stream",
     "text": [
      "height : 675 pixels\n"
     ]
    }
   ],
   "source": [
    "print(f\"height : {image.shape[0]} pixels\")"
   ]
  },
  {
   "cell_type": "code",
   "execution_count": 34,
   "metadata": {},
   "outputs": [
    {
     "name": "stdout",
     "output_type": "stream",
     "text": [
      "channels : 3 channels\n"
     ]
    }
   ],
   "source": [
    "print(f\"channels : {image.shape[2]} channels\")"
   ]
  },
  {
   "cell_type": "code",
   "execution_count": 27,
   "metadata": {},
   "outputs": [
    {
     "name": "stdout",
     "output_type": "stream",
     "text": [
      "Pixel at (10,10) - Red : 86, Blue : 101, Green : 100 \n",
      "Pixel at (10,10) - Red : 86, Blue : 101, Green : 100 \n"
     ]
    }
   ],
   "source": [
    "(b, g, r) = image[100, 100]\n",
    "print(f\"Pixel at (10,10) - Red : {r}, Blue : {b}, Green : {g} \")\n",
    "\n",
    "# image[100,100] = (0, 0, 0)\n",
    "# (b, g, r) = image[100,100]\n",
    "for x in range(100):\n",
    "    for y in range(500, 800):\n",
    "        image[x, y] = (0, 0, 0)\n",
    "print(f\"Pixel at (10,10) - Red : {r}, Blue : {b}, Green : {g} \")"
   ]
  },
  {
   "cell_type": "code",
   "execution_count": 28,
   "metadata": {},
   "outputs": [
    {
     "data": {
      "text/plain": [
       "-1"
      ]
     },
     "execution_count": 28,
     "metadata": {},
     "output_type": "execute_result"
    }
   ],
   "source": [
    "cv2.imshow('image', image)\n",
    "cv2.waitKey(0)"
   ]
  },
  {
   "cell_type": "code",
   "execution_count": 33,
   "metadata": {},
   "outputs": [
    {
     "data": {
      "text/plain": [
       "'3.7.16 (default, Jan 17 2023, 16:06:28) [MSC v.1916 64 bit (AMD64)]'"
      ]
     },
     "execution_count": 33,
     "metadata": {},
     "output_type": "execute_result"
    }
   ],
   "source": [
    "import sys\n",
    "sys.version"
   ]
  },
  {
   "cell_type": "code",
   "execution_count": 3,
   "metadata": {},
   "outputs": [
    {
     "data": {
      "text/plain": [
       "-1"
      ]
     },
     "execution_count": 3,
     "metadata": {},
     "output_type": "execute_result"
    }
   ],
   "source": [
    "image = cv2.imread('scale.jpg')\n",
    "corner = image[0:100, 0:200]\n",
    "cv2.imshow(\"Corner\", corner)\n",
    "\n",
    "image[0:100, 0:200] = (0, 255, 0)\n",
    "\n",
    "cv2.imshow(\"Updated\", image)\n",
    "cv2.waitKey(0)"
   ]
  }
 ],
 "metadata": {
  "kernelspec": {
   "display_name": "Python 3.7.16 ('vision')",
   "language": "python",
   "name": "python3"
  },
  "language_info": {
   "codemirror_mode": {
    "name": "ipython",
    "version": 3
   },
   "file_extension": ".py",
   "mimetype": "text/x-python",
   "name": "python",
   "nbconvert_exporter": "python",
   "pygments_lexer": "ipython3",
   "version": "3.7.16"
  },
  "orig_nbformat": 4,
  "vscode": {
   "interpreter": {
    "hash": "53f98e77925c1c0728b38d718fc58cc0d431f6f1635e82f3767f9c080b60dc4b"
   }
  }
 },
 "nbformat": 4,
 "nbformat_minor": 2
}
